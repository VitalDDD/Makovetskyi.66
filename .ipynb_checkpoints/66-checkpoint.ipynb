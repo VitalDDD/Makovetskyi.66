{
 "cells": [
  {
   "cell_type": "code",
   "execution_count": 9,
   "id": "5675267f",
   "metadata": {},
   "outputs": [],
   "source": [
    "# Завантажуємо необхідні модулі\n",
    "from keras.optimizers import RMSprop\n",
    "from keras.preprocessing.image import ImageDataGenerator\n",
    "import cv2\n",
    "from keras.models import Sequential\n",
    "from keras.layers import Conv2D, Input, ZeroPadding2D, BatchNormalization, Activation, MaxPooling2D, Flatten, Dense,Dropout\n",
    "from keras.models import Model, load_model\n",
    "from keras.callbacks import TensorBoard, ModelCheckpoint\n",
    "from sklearn.model_selection import train_test_split\n",
    "from sklearn.metrics import f1_score\n",
    "from sklearn.utils import shuffle\n",
    "import imutils\n",
    "import numpy as np\n"
   ]
  },
  {
   "cell_type": "code",
   "execution_count": 10,
   "id": "c64624c3",
   "metadata": {},
   "outputs": [],
   "source": [
    "# Створюємо модель нейронної мережі\n",
    "model = Sequential([\n",
    "    Conv2D(100, (3,3), activation='relu', input_shape=(150, 150, 3)),\n",
    "    MaxPooling2D(2,2),\n",
    "    \n",
    "    Conv2D(100, (3,3), activation='relu'),\n",
    "    MaxPooling2D(2,2),\n",
    "    \n",
    "    Flatten(),\n",
    "    Dropout(0.5),\n",
    "    Dense(50, activation='relu'),\n",
    "    Dense(2, activation='softmax')\n",
    "])\n",
    "model.compile(optimizer='adam', loss='binary_crossentropy', metrics=['acc'])"
   ]
  },
  {
   "cell_type": "code",
   "execution_count": 11,
   "id": "bb1a1ec1",
   "metadata": {},
   "outputs": [
    {
     "name": "stdout",
     "output_type": "stream",
     "text": [
      "Found 1315 images belonging to 2 classes.\n",
      "Found 194 images belonging to 2 classes.\n"
     ]
    }
   ],
   "source": [
    "# Задаємо датасети тренувальний та тестовий\n",
    "TRAINING_DIR = \"./train\"\n",
    "train_datagen = ImageDataGenerator(rescale=1.0/255,\n",
    "                                   rotation_range=40,\n",
    "                                   width_shift_range=0.2,\n",
    "                                   height_shift_range=0.2,\n",
    "                                   shear_range=0.2,\n",
    "                                   zoom_range=0.2,\n",
    "                                   horizontal_flip=True,\n",
    "                                   fill_mode='nearest')\n",
    "train_generator = train_datagen.flow_from_directory(TRAINING_DIR, \n",
    "                                                    batch_size=10, \n",
    "                                                    target_size=(150, 150))\n",
    "VALIDATION_DIR = \"./test\"\n",
    "validation_datagen = ImageDataGenerator(rescale=1.0/255)\n",
    "validation_generator = validation_datagen.flow_from_directory(VALIDATION_DIR, \n",
    "                                                         batch_size=10, \n",
    "                                                         target_size=(150, 150))\n"
   ]
  },
  {
   "cell_type": "code",
   "execution_count": 12,
   "id": "0976ea03",
   "metadata": {},
   "outputs": [],
   "source": [
    "# Зберігаємо результати епох\n",
    "checkpoint = ModelCheckpoint('model-{epoch:03d}.model',monitor='val_loss',verbose=0,save_best_only=True,mode='auto')"
   ]
  },
  {
   "cell_type": "code",
   "execution_count": 13,
   "id": "8d7899fb",
   "metadata": {},
   "outputs": [
    {
     "name": "stderr",
     "output_type": "stream",
     "text": [
      "C:\\Users\\Asus\\AppData\\Local\\Temp\\ipykernel_11608\\2387756493.py:1: UserWarning: `Model.fit_generator` is deprecated and will be removed in a future version. Please use `Model.fit`, which supports generators.\n",
      "  history = model.fit_generator(train_generator,\n"
     ]
    },
    {
     "name": "stdout",
     "output_type": "stream",
     "text": [
      "Epoch 1/20\n",
      "132/132 [==============================] - ETA: 0s - loss: 0.6086 - acc: 0.6426"
     ]
    },
    {
     "name": "stderr",
     "output_type": "stream",
     "text": [
      "WARNING:absl:Found untraced functions such as _jit_compiled_convolution_op, _jit_compiled_convolution_op, _update_step_xla while saving (showing 3 of 3). These functions will not be directly callable after loading.\n"
     ]
    },
    {
     "name": "stdout",
     "output_type": "stream",
     "text": [
      "INFO:tensorflow:Assets written to: model-001.model\\assets\n"
     ]
    },
    {
     "name": "stderr",
     "output_type": "stream",
     "text": [
      "INFO:tensorflow:Assets written to: model-001.model\\assets\n"
     ]
    },
    {
     "name": "stdout",
     "output_type": "stream",
     "text": [
      "132/132 [==============================] - 207s 2s/step - loss: 0.6086 - acc: 0.6426 - val_loss: 0.2526 - val_acc: 0.9330\n",
      "Epoch 2/20\n",
      "132/132 [==============================] - ETA: 0s - loss: 0.3695 - acc: 0.8464"
     ]
    },
    {
     "name": "stderr",
     "output_type": "stream",
     "text": [
      "WARNING:absl:Found untraced functions such as _jit_compiled_convolution_op, _jit_compiled_convolution_op, _update_step_xla while saving (showing 3 of 3). These functions will not be directly callable after loading.\n"
     ]
    },
    {
     "name": "stdout",
     "output_type": "stream",
     "text": [
      "INFO:tensorflow:Assets written to: model-002.model\\assets\n"
     ]
    },
    {
     "name": "stderr",
     "output_type": "stream",
     "text": [
      "INFO:tensorflow:Assets written to: model-002.model\\assets\n"
     ]
    },
    {
     "name": "stdout",
     "output_type": "stream",
     "text": [
      "132/132 [==============================] - 216s 2s/step - loss: 0.3695 - acc: 0.8464 - val_loss: 0.1494 - val_acc: 0.9536\n",
      "Epoch 3/20\n",
      "132/132 [==============================] - ETA: 0s - loss: 0.3141 - acc: 0.8730"
     ]
    },
    {
     "name": "stderr",
     "output_type": "stream",
     "text": [
      "WARNING:absl:Found untraced functions such as _jit_compiled_convolution_op, _jit_compiled_convolution_op, _update_step_xla while saving (showing 3 of 3). These functions will not be directly callable after loading.\n"
     ]
    },
    {
     "name": "stdout",
     "output_type": "stream",
     "text": [
      "INFO:tensorflow:Assets written to: model-003.model\\assets\n"
     ]
    },
    {
     "name": "stderr",
     "output_type": "stream",
     "text": [
      "INFO:tensorflow:Assets written to: model-003.model\\assets\n"
     ]
    },
    {
     "name": "stdout",
     "output_type": "stream",
     "text": [
      "132/132 [==============================] - 207s 2s/step - loss: 0.3141 - acc: 0.8730 - val_loss: 0.1330 - val_acc: 0.9588\n",
      "Epoch 4/20\n",
      "132/132 [==============================] - 214s 2s/step - loss: 0.3178 - acc: 0.8760 - val_loss: 0.1711 - val_acc: 0.9639\n",
      "Epoch 5/20\n",
      "132/132 [==============================] - ETA: 0s - loss: 0.2347 - acc: 0.9057"
     ]
    },
    {
     "name": "stderr",
     "output_type": "stream",
     "text": [
      "WARNING:absl:Found untraced functions such as _jit_compiled_convolution_op, _jit_compiled_convolution_op, _update_step_xla while saving (showing 3 of 3). These functions will not be directly callable after loading.\n"
     ]
    },
    {
     "name": "stdout",
     "output_type": "stream",
     "text": [
      "INFO:tensorflow:Assets written to: model-005.model\\assets\n"
     ]
    },
    {
     "name": "stderr",
     "output_type": "stream",
     "text": [
      "INFO:tensorflow:Assets written to: model-005.model\\assets\n"
     ]
    },
    {
     "name": "stdout",
     "output_type": "stream",
     "text": [
      "132/132 [==============================] - 201s 2s/step - loss: 0.2347 - acc: 0.9057 - val_loss: 0.0939 - val_acc: 0.9588\n",
      "Epoch 6/20\n",
      "132/132 [==============================] - ETA: 0s - loss: 0.2263 - acc: 0.9156"
     ]
    },
    {
     "name": "stderr",
     "output_type": "stream",
     "text": [
      "WARNING:absl:Found untraced functions such as _jit_compiled_convolution_op, _jit_compiled_convolution_op, _update_step_xla while saving (showing 3 of 3). These functions will not be directly callable after loading.\n"
     ]
    },
    {
     "name": "stdout",
     "output_type": "stream",
     "text": [
      "INFO:tensorflow:Assets written to: model-006.model\\assets\n"
     ]
    },
    {
     "name": "stderr",
     "output_type": "stream",
     "text": [
      "INFO:tensorflow:Assets written to: model-006.model\\assets\n"
     ]
    },
    {
     "name": "stdout",
     "output_type": "stream",
     "text": [
      "132/132 [==============================] - 198s 1s/step - loss: 0.2263 - acc: 0.9156 - val_loss: 0.0740 - val_acc: 0.9691\n",
      "Epoch 7/20\n",
      "132/132 [==============================] - 196s 1s/step - loss: 0.2205 - acc: 0.9194 - val_loss: 0.0782 - val_acc: 0.9691\n",
      "Epoch 8/20\n",
      "132/132 [==============================] - ETA: 0s - loss: 0.1965 - acc: 0.9300"
     ]
    },
    {
     "name": "stderr",
     "output_type": "stream",
     "text": [
      "WARNING:absl:Found untraced functions such as _jit_compiled_convolution_op, _jit_compiled_convolution_op, _update_step_xla while saving (showing 3 of 3). These functions will not be directly callable after loading.\n"
     ]
    },
    {
     "name": "stdout",
     "output_type": "stream",
     "text": [
      "INFO:tensorflow:Assets written to: model-008.model\\assets\n"
     ]
    },
    {
     "name": "stderr",
     "output_type": "stream",
     "text": [
      "INFO:tensorflow:Assets written to: model-008.model\\assets\n"
     ]
    },
    {
     "name": "stdout",
     "output_type": "stream",
     "text": [
      "132/132 [==============================] - 199s 2s/step - loss: 0.1965 - acc: 0.9300 - val_loss: 0.0467 - val_acc: 0.9845\n",
      "Epoch 9/20\n",
      "132/132 [==============================] - 198s 2s/step - loss: 0.1993 - acc: 0.9240 - val_loss: 0.0490 - val_acc: 0.9948\n",
      "Epoch 10/20\n",
      "132/132 [==============================] - 212s 2s/step - loss: 0.1951 - acc: 0.9270 - val_loss: 0.0539 - val_acc: 0.9742\n",
      "Epoch 11/20\n",
      "132/132 [==============================] - ETA: 0s - loss: 0.1708 - acc: 0.9407"
     ]
    },
    {
     "name": "stderr",
     "output_type": "stream",
     "text": [
      "WARNING:absl:Found untraced functions such as _jit_compiled_convolution_op, _jit_compiled_convolution_op, _update_step_xla while saving (showing 3 of 3). These functions will not be directly callable after loading.\n"
     ]
    },
    {
     "name": "stdout",
     "output_type": "stream",
     "text": [
      "INFO:tensorflow:Assets written to: model-011.model\\assets\n"
     ]
    },
    {
     "name": "stderr",
     "output_type": "stream",
     "text": [
      "INFO:tensorflow:Assets written to: model-011.model\\assets\n"
     ]
    },
    {
     "name": "stdout",
     "output_type": "stream",
     "text": [
      "132/132 [==============================] - 202s 2s/step - loss: 0.1708 - acc: 0.9407 - val_loss: 0.0284 - val_acc: 0.9897\n",
      "Epoch 12/20\n",
      "132/132 [==============================] - 196s 1s/step - loss: 0.1620 - acc: 0.9437 - val_loss: 0.0653 - val_acc: 0.9794\n",
      "Epoch 13/20\n",
      "132/132 [==============================] - 195s 1s/step - loss: 0.1471 - acc: 0.9445 - val_loss: 0.0422 - val_acc: 0.9948\n",
      "Epoch 14/20\n",
      "132/132 [==============================] - 195s 1s/step - loss: 0.1644 - acc: 0.9346 - val_loss: 0.0349 - val_acc: 0.9948\n",
      "Epoch 15/20\n",
      "132/132 [==============================] - 196s 1s/step - loss: 0.1667 - acc: 0.9399 - val_loss: 0.0702 - val_acc: 0.9794\n",
      "Epoch 16/20\n",
      "132/132 [==============================] - ETA: 0s - loss: 0.1348 - acc: 0.9536"
     ]
    },
    {
     "name": "stderr",
     "output_type": "stream",
     "text": [
      "WARNING:absl:Found untraced functions such as _jit_compiled_convolution_op, _jit_compiled_convolution_op, _update_step_xla while saving (showing 3 of 3). These functions will not be directly callable after loading.\n"
     ]
    },
    {
     "name": "stdout",
     "output_type": "stream",
     "text": [
      "INFO:tensorflow:Assets written to: model-016.model\\assets\n"
     ]
    },
    {
     "name": "stderr",
     "output_type": "stream",
     "text": [
      "INFO:tensorflow:Assets written to: model-016.model\\assets\n"
     ]
    },
    {
     "name": "stdout",
     "output_type": "stream",
     "text": [
      "132/132 [==============================] - 200s 2s/step - loss: 0.1348 - acc: 0.9536 - val_loss: 0.0161 - val_acc: 0.9948\n",
      "Epoch 17/20\n",
      "132/132 [==============================] - 195s 1s/step - loss: 0.1445 - acc: 0.9460 - val_loss: 0.0848 - val_acc: 0.9639\n",
      "Epoch 18/20\n",
      "132/132 [==============================] - 195s 1s/step - loss: 0.1217 - acc: 0.9582 - val_loss: 0.2160 - val_acc: 0.9021\n",
      "Epoch 19/20\n",
      "132/132 [==============================] - 195s 1s/step - loss: 0.1607 - acc: 0.9407 - val_loss: 0.0412 - val_acc: 1.0000\n",
      "Epoch 20/20\n",
      "132/132 [==============================] - 195s 1s/step - loss: 0.1331 - acc: 0.9536 - val_loss: 0.0367 - val_acc: 0.9897\n"
     ]
    }
   ],
   "source": [
    "# Навчаємо модель на протязі 20 епох\n",
    "history = model.fit_generator(train_generator,\n",
    "                              epochs=20,\n",
    "                              validation_data=validation_generator,\n",
    "                              callbacks=[checkpoint])"
   ]
  },
  {
   "cell_type": "code",
   "execution_count": null,
   "id": "202ce321",
   "metadata": {},
   "outputs": [],
   "source": []
  }
 ],
 "metadata": {
  "kernelspec": {
   "display_name": "Python 3 (ipykernel)",
   "language": "python",
   "name": "python3"
  },
  "language_info": {
   "codemirror_mode": {
    "name": "ipython",
    "version": 3
   },
   "file_extension": ".py",
   "mimetype": "text/x-python",
   "name": "python",
   "nbconvert_exporter": "python",
   "pygments_lexer": "ipython3",
   "version": "3.9.13"
  }
 },
 "nbformat": 4,
 "nbformat_minor": 5
}
